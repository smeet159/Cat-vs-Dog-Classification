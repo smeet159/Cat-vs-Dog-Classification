{
  "cells": [
    {
      "metadata": {
        "_uuid": "8f2839f25d086af736a60e9eeb907d3b93b6e0e5",
        "_cell_guid": "b1076dfc-b9ad-4769-8c92-a6c4dae69d19",
        "trusted": true
      },
      "cell_type": "code",
      "source": "# This Python 3 environment comes with many helpful analytics libraries installed\n# It is defined by the kaggle/python docker image: https://github.com/kaggle/docker-python\n# For example, here's several helpful packages to load in \n\nimport numpy as np # linear algebra\nimport pandas as pd # data processing, CSV file I/O (e.g. pd.read_csv)\nimport os\nfrom random import shuffle\nimport matplotlib.pyplot as plt\nimport cv2\nprint(os.listdir(\"../input\"))",
      "execution_count": null,
      "outputs": []
    },
    {
      "metadata": {
        "trusted": true,
        "_uuid": "80664a2b675f17d7a05e2ec923b7c0eba0a5b94f"
      },
      "cell_type": "code",
      "source": "#training data set directory\ntraindir = \"../input/train\"\n#testing data set directory\ntestdir = '..input/test'\nimg_size = 50\nlearning_rate = 0.001",
      "execution_count": null,
      "outputs": []
    },
    {
      "metadata": {
        "trusted": true,
        "_uuid": "9b753f2ffb58db79ed7cb884b544cfdcfe90f055"
      },
      "cell_type": "code",
      "source": "#[1,0] is for cat and [0,1] is for dog.\ndef label_image(image):\n    label = image.split('.')[0]\n    if label == 'cat':\n        return [1,0]\n    elif label == 'dog':\n        return [0,1]",
      "execution_count": null,
      "outputs": []
    },
    {
      "metadata": {
        "trusted": true,
        "_uuid": "67ec15c57a659cb6a54dd912a4b40a6ae7a3de62"
      },
      "cell_type": "code",
      "source": "def create_training_data():\n    training_data = []\n    for img in os.listdir(traindir):\n        label = label_image(img) \n        path = os.path.join(traindir,img)\n        img = cv2.imread(path,cv2.IMREAD_GRAYSCALE) #convert the image into gray scale\n        img = cv2.resize(img,(img_size,img_size))\n        training_data.append([img,np.array([label])])\n    shuffle(training_data)    \n    return training_data",
      "execution_count": null,
      "outputs": []
    },
    {
      "metadata": {
        "trusted": true,
        "_uuid": "c62d534c89ea3e09a8278d6a7152f31bd67585c8"
      },
      "cell_type": "code",
      "source": "def creat_test_data():\n    test_data=[]\n    for img in os.listdir(traindir):\n        path=os.path.join(testdir,img)\n        img_num = img.split('.')[0]\n        img = cv2.imread(path,cv2.IMREAD_GRAYSCALE)\n        img = cv2.resize(img,(img_size,img_size))\n        test_data.append([img,img_num])\n    shuffle(test_data)    \n    return test_data",
      "execution_count": null,
      "outputs": []
    },
    {
      "metadata": {
        "trusted": true,
        "_uuid": "567dd67aed7b32773a7328b54183b4ecbe9436af"
      },
      "cell_type": "code",
      "source": "train_data = create_training_data()",
      "execution_count": null,
      "outputs": []
    },
    {
      "metadata": {
        "trusted": true,
        "_uuid": "91e9f73a161e49d46d90afa13eab0b0b555db722"
      },
      "cell_type": "code",
      "source": "import tflearn\nfrom tflearn.layers.conv import conv_2d,max_pool_2d\nfrom tflearn.layers.core import input_data,dropout,fully_connected,flatten\nfrom tflearn.layers.estimator import regression\n\n\nconvnet = input_data(shape=[None,img_size,img_size,1],name='input')\n\n#model architecture\nconvnet = conv_2d(convnet,128,3,activation='relu')\nconvnet = max_pool_2d(convnet,2)\n\nconvnet = conv_2d(convnet,64,3,activation='relu')\nconvnet = max_pool_2d(convnet,2)\n\nconvnet = conv_2d(convnet,32,3,activation='relu')\nconvnet = max_pool_2d(convnet,2)\n\nconvnet = flatten(convnet)\nconvnet = fully_connected(convnet,1024,activation='relu')\n\nconvnet = fully_connected(convnet,256,activation='relu')\n\nconvnet = fully_connected(convnet,128,activation='relu')\n\nconvnet = fully_connected(convnet,2,activation='relu')\n\nconvnet = regression(convnet,optimizer='adam',learning_rate=learning_rate,loss='categorical_crossentropy', name='targets')\n",
      "execution_count": null,
      "outputs": []
    },
    {
      "metadata": {
        "trusted": true,
        "_uuid": "5c92f7419aad32456362e94d7309da2cd963288a"
      },
      "cell_type": "code",
      "source": "model = tflearn.DNN(convnet,tensorboard_dir='log')",
      "execution_count": null,
      "outputs": []
    },
    {
      "metadata": {
        "trusted": true,
        "_uuid": "92dbce3f8d3703832ce88420325175480d73d2bb"
      },
      "cell_type": "code",
      "source": "train = train_data[0:-500]\nval = train_data[-500:0]",
      "execution_count": null,
      "outputs": []
    },
    {
      "metadata": {
        "trusted": true,
        "_uuid": "bcd628025e50e78937a9a206de26cd4928b4a71d"
      },
      "cell_type": "code",
      "source": "#training set\nX = np.array([i[0] for i in train]).reshape([-1,img_size,img_size,1])\ny = np.array([i[1] for i in train])\nval_x = np.array([i[0] for i in val]).reshape([-1,img_size,img_size,1])\nval_y = np.array([i[1] for i in val])",
      "execution_count": null,
      "outputs": []
    },
    {
      "metadata": {
        "trusted": true,
        "_uuid": "574084caa419bbb095c597bffd5543adaee9f08d",
        "scrolled": true
      },
      "cell_type": "code",
      "source": "model.fit({'input':X}, {'targets': y}, n_epoch=3, validation_set=({'input': val_x}, {'targets': val_y}), snapshot_step=500, show_metric=True)",
      "execution_count": null,
      "outputs": []
    },
    {
      "metadata": {
        "trusted": true,
        "_uuid": "c5ee8d848be1c25d93a1f5e1dafa2461fb1c1d49"
      },
      "cell_type": "code",
      "source": "fig=plt.figure()\n\nfor num,data in enumerate(test_data[:15]):    \n    img_num = data[1]\n    img_data = data[0]\n    \n    y = fig.add_subplot(3,5,num+1)\n    orig = img_data\n    data = img_data.reshape(IMG_SIZE,IMG_SIZE,1)\n    model_out = model.predict([data])[0]\n    \n    if np.argmax(model_out) == 1: \n        str_label='Dog'\n    else: \n        str_label='Cat'\n        \n    y.imshow(orig,cmap='gray')\n    plt.title(str_label)\n    y.axes.get_xaxis().set_visible(False)\n    y.axes.get_yaxis().set_visible(False)\nplt.show()",
      "execution_count": null,
      "outputs": []
    }
  ],
  "metadata": {
    "kernelspec": {
      "display_name": "Python 3",
      "language": "python",
      "name": "python3"
    },
    "language_info": {
      "name": "python",
      "version": "3.6.6",
      "mimetype": "text/x-python",
      "codemirror_mode": {
        "name": "ipython",
        "version": 3
      },
      "pygments_lexer": "ipython3",
      "nbconvert_exporter": "python",
      "file_extension": ".py"
    }
  },
  "nbformat": 4,
  "nbformat_minor": 1
}